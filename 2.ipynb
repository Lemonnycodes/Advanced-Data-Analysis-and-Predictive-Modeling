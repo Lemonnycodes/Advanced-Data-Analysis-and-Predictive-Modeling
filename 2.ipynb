{
  "nbformat": 4,
  "nbformat_minor": 0,
  "metadata": {
    "colab": {
      "provenance": []
    },
    "kernelspec": {
      "name": "python3",
      "display_name": "Python 3"
    },
    "language_info": {
      "name": "python"
    }
  },
  "cells": [
    {
      "cell_type": "code",
      "source": [
        "from google.colab import drive\n",
        "drive.mount('/content/gdrive') \n"
      ],
      "metadata": {
        "colab": {
          "base_uri": "https://localhost:8080/"
        },
        "id": "6JPmNdLNWh7h",
        "outputId": "0762267a-ea45-4e8b-da0e-195df5b5db7e"
      },
      "execution_count": 10,
      "outputs": [
        {
          "output_type": "stream",
          "name": "stdout",
          "text": [
            "Drive already mounted at /content/gdrive; to attempt to forcibly remount, call drive.mount(\"/content/gdrive\", force_remount=True).\n"
          ]
        }
      ]
    },
    {
      "cell_type": "code",
      "execution_count": 11,
      "metadata": {
        "id": "ac0qunZR3pUA"
      },
      "outputs": [],
      "source": [
        "#libraries necessary for prediction\n",
        "import pandas as pd \n",
        "import numpy as np\n",
        "\n",
        "from sklearn.decomposition import PCA as sklearnPCA\n",
        "from sklearn.naive_bayes import BernoulliNB"
      ]
    },
    {
      "cell_type": "code",
      "source": [
        "#train-test data is loaded to predict the output\n",
        "def Dataforactivityprediction(training_dataset,testing_dataset):\n",
        "    \n",
        "    def convertDataframe(datainput):\n",
        "        dataframe = pd.DataFrame(columns=range(100000))\n",
        "        \n",
        "        for z in range(len(datainput)):\n",
        "            value = np.fromstring(datainput[z], dtype=int, sep=' ')\n",
        "            bool_value = [0 for j in range(100000)]\n",
        "            for col in value:\n",
        "                bool_value[col-1] = 1\n",
        "            \n",
        "            dataframe.loc[z] = bool_value\n",
        "            \n",
        "        return dataframe\n",
        "    \n",
        "    with open('/content/gdrive/MyDrive/trainfile.txt') as f1:\n",
        "        trainFile = f1.readlines()\n",
        "    \n",
        "    #the lines in test and train data is split as data and labels\n",
        "    trainingdata_list = []\n",
        "    traininglabels_list = []\n",
        "    \n",
        "    for Datainput in trainFile:\n",
        "        traininglabels_list.append(Datainput[0])\n",
        "        \n",
        "        \n",
        "        Datainput = Datainput.replace(\"0\\t\", \"\") #label (0/1) is erased\n",
        "        Datainput = Datainput.replace(\"1\\t\", \"\") #new line is also added\n",
        "        Datainput = Datainput.replace(\"\\n\", \"\")\n",
        "        trainingdata_list.append(Datainput)\n",
        "        traininglabels = np.asarray(traininglabels_list)\n",
        "    training_datavalue = convertDataframe(trainingdata_list)\n",
        "        \n",
        "    with open('/content/gdrive/MyDrive/testfile.txt') as f2:\n",
        "        testFile = f2.readlines()\n",
        "    \n",
        "    testing_datavalue = convertDataframe(testFile)\n",
        "            \n",
        "    return training_datavalue, testing_datavalue, traininglabels\n",
        "\n"
      ],
      "metadata": {
        "id": "IX5l1kaK5e1g"
      },
      "execution_count": 12,
      "outputs": []
    },
    {
      "cell_type": "code",
      "source": [
        "def value_pca(traindata,testdata, s): #PCA is used to reduce dimensionality\n",
        "\n",
        "    pcaresult = sklearnPCA(n_components = s)\n",
        "    Estimated_PCAValue_trainData = pcaresult.fit_transform(training_datavalue)\n",
        "    Estimated_PCAValue_testData = pcaresult.transform(testing_datavalue)\n",
        "    return Estimated_PCAValue_trainData, Estimated_PCAValue_testData #reduced dimensionality of the data is projected \n",
        "\n",
        "#Classification to predict the output\n",
        "def NaiveBayes(Estimated_PCAValue_trainData,Estimated_PCAValue_testData,  traininglabels ):\n",
        "\n",
        "    NB = BernoulliNB()\n",
        "    NB.fit(Estimated_PCAValue_trainData, traininglabels)\n",
        "\n",
        "    Expected_predictions = []\n",
        "\n",
        "    Expected_predictions = NB.predict(Estimated_PCAValue_testData)\n",
        "\n",
        "    return Expected_predictions"
      ],
      "metadata": {
        "id": "q6GfOwxaQSxo"
      },
      "execution_count": 13,
      "outputs": []
    },
    {
      "cell_type": "code",
      "source": [
        "#dataset loaded  is read and three distinct dataframe is obtained of training, testing data and train labels\n",
        "training_datavalue, testing_datavalue, traininglabels = Dataforactivityprediction('trainfile.txt','testfile.txt')\n"
      ],
      "metadata": {
        "id": "bJOorrKWwTus"
      },
      "execution_count": 15,
      "outputs": []
    },
    {
      "cell_type": "code",
      "source": [
        "#Dimensionality is reduced from 1000 to 100 as expected using PCA :( Principal Component Analysis ) \n",
        "Estimated_PCAValue_trainData, Estimated_PCAValue_testData = value_pca(training_datavalue, testing_datavalue, 500)"
      ],
      "metadata": {
        "id": "0DEceCdd0OXg"
      },
      "execution_count": 17,
      "outputs": []
    },
    {
      "cell_type": "code",
      "source": [
        "Expected_predictions = NaiveBayes(Estimated_PCAValue_trainData, Estimated_PCAValue_testData, traininglabels )"
      ],
      "metadata": {
        "id": "gBi5ht6p-9QP"
      },
      "execution_count": 18,
      "outputs": []
    },
    {
      "cell_type": "code",
      "source": [
        "predictedop = open('/content/gdrive/MyDrive/outputF.txt', 'w')\n",
        "\n",
        "predictedop.writelines( \"%s\\n\" % prediction for prediction in Expected_predictions)\n",
        "\n",
        "predictedop.close()"
      ],
      "metadata": {
        "id": "X1yDk-52BCHI"
      },
      "execution_count": 23,
      "outputs": []
    },
    {
      "cell_type": "code",
      "source": [],
      "metadata": {
        "id": "qcP6M3FVI47Z"
      },
      "execution_count": null,
      "outputs": []
    }
  ]
}