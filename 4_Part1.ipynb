{
  "nbformat": 4,
  "nbformat_minor": 0,
  "metadata": {
    "colab": {
      "provenance": []
    },
    "kernelspec": {
      "name": "python3",
      "display_name": "Python 3"
    },
    "language_info": {
      "name": "python"
    }
  },
  "cells": [
    {
      "cell_type": "code",
      "source": [
        "from google.colab import drive\n",
        "drive.mount('/content/gdrive') "
      ],
      "metadata": {
        "colab": {
          "base_uri": "https://localhost:8080/"
        },
        "id": "fV4Hbgx5tl7V",
        "outputId": "ee8f58af-ed9d-4de4-8a78-25b5f020de2b"
      },
      "execution_count": 1,
      "outputs": [
        {
          "output_type": "stream",
          "name": "stdout",
          "text": [
            "Mounted at /content/gdrive\n"
          ]
        }
      ]
    },
    {
      "cell_type": "code",
      "metadata": {
        "id": "LFCwXODoic7b"
      },
      "source": [
        "import pandas as pd\n",
        "from scipy.spatial.distance import cdist \n",
        "import scipy.sparse as sp\n",
        "import numpy as np\n",
        "\n",
        "\n",
        "test = pd.read_table(\"/content/gdrive/MyDrive/Hw4_Sdharmas_584/test1.txt\", header=None, skip_blank_lines=False, delim_whitespace=True)\n",
        "\n",
        "def initializekmeans(rec,k, max_iter = 300):\n",
        "    \n",
        "    First_centroid_pts = np.random.choice(len(rec), k, replace=False) \n",
        "    print(\"Initial Centroids position points: \",First_centroid_pts) \n",
        "   \n",
        "    First_Centroid = rec.iloc[First_centroid_pts, :]\n",
        "    print(\"Value of centroid is given by: \",First_Centroid)\n",
        "    \n",
        "    \n",
        "    DistVal = cdist(rec, First_Centroid ,'cosine')\n",
        "    print(\"Distance is given by: \",DistVal)\n",
        "    \n",
        "\n",
        "    pts = np.array([np.argmin(i) for i in DistVal])\n",
        "    \n",
        "    for _ in range(max_iter): \n",
        "        centroids = []\n",
        "        for i in range(k):\n",
        "            temp_cent = rec.iloc[pts==i].mean(axis=0) \n",
        "            centroids.append(temp_cent)\n",
        " \n",
        "        centroidpt = np.vstack(centroids) \n",
        "        \n",
        "        DistVal = cdist(rec, centroidpt ,'cosine')\n",
        "        pts = np.array([np.argmin(i) for i in DistVal])\n",
        "         \n",
        "    return pts"
      ],
      "execution_count": 24,
      "outputs": []
    },
    {
      "cell_type": "code",
      "metadata": {
        "id": "ztcCn-pPcS1u"
      },
      "source": [
        "labels = initializekmeans(test,3,300)"
      ],
      "execution_count": null,
      "outputs": []
    },
    {
      "cell_type": "code",
      "metadata": {
        "id": "zFPg5Z1rjlF4"
      },
      "source": [
        "output=open('/content/gdrive/MyDrive/Hw4_Sdharmas_584/output1.txt', 'w') \n",
        "output.writelines(\"%s \\n\"%i for i in labels)\n",
        "output.close()"
      ],
      "execution_count": 26,
      "outputs": []
    },
    {
      "cell_type": "code",
      "metadata": {
        "id": "hrTXJHxJb8yv"
      },
      "source": [
        "from sklearn.decomposition import PCA\n",
        "sklearn_pca = PCA(n_components=2).fit_transform(test)\n",
        "\n",
        "import matplotlib.pyplot as plt\n",
        "import numpy as np\n",
        "\n",
        "u_labels = np.unique(labels)\n",
        "for i in u_labels:\n",
        "    plt.scatter(sklearn_pca[labels == i , 0] , sklearn_pca[labels == i, 1] , label = i )\n",
        "plt.legend()\n",
        "plt.show()\n"
      ],
      "execution_count": null,
      "outputs": []
    },
    {
      "cell_type": "code",
      "metadata": {
        "id": "_ctJQuOjcJyf"
      },
      "source": [
        "def error(p,q):\n",
        "  summationval = 0 \n",
        "  n = len(p) #finding total number of items in list\n",
        "  for i in range (1,n):\n",
        "    diff = p[i] - q[i]  #finding the difference between observed and predicted value\n",
        "    diff_sq = diff**2 \n",
        "    summationval = summationval + diff_sq  #taking a sum of all the differences\n",
        "  return summationval/n  #dividing summation by total values to obtain average\n",
        " \n",
        "distortions = []\n",
        "K = [2,4,6,8,10,12,14,16,18,20]\n",
        "for k in K:\n",
        "    kmeanModel2 = initializekmeans(test,k,300)    \n",
        "    distortions.append(error(kmeanModel2,labels))\n"
      ],
      "execution_count": null,
      "outputs": []
    },
    {
      "cell_type": "code",
      "metadata": {
        "id": "aMw_7GtKdkTU"
      },
      "source": [
        "plt.figure()\n",
        "plt.title('Elbow Method is gn by')\n",
        "plt.xlabel('K VAL tends to:')\n",
        "plt.ylabel('Error value')\n",
        "plt.plot(K, distortions, 'mx-')\n",
        "plt.show()"
      ],
      "execution_count": null,
      "outputs": []
    },
    {
      "cell_type": "code",
      "source": [],
      "metadata": {
        "id": "_3TJxFBEEwFJ"
      },
      "execution_count": null,
      "outputs": []
    }
  ]
}